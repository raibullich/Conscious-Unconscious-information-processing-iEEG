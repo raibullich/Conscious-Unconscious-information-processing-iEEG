{
 "cells": [
  {
   "cell_type": "markdown",
   "metadata": {},
   "source": [
    "In this notebook code is provided to convert the raw data into epochs (stimulus and response centered)"
   ]
  },
  {
   "cell_type": "markdown",
   "metadata": {},
   "source": [
    "# Preprocessing pipeline\n",
    "\n",
    "#### Steps:\n",
    "- STEP 1: Load raw files\n",
    "- STEP 2: Visualize probes\n",
    "- STEP 3: Remove white matter channels (and bads)\n",
    "- STEP 4: Filter data\n",
    "- STEP 5: Remove noisy contacts based on PSD\n",
    "- STEP 6: Average reference the data\n",
    "- STEP 7: Notch filter\n",
    "- STEP 8: Create epoch object (stim and response centered)\n",
    "- STEP 9: Visualize and remove channels and epochs\n",
    "\n",
    "\n",
    "The code allows to load data of each participant to visually inspect and preprocess it in a semi automatized way."
   ]
  },
  {
   "cell_type": "code",
   "execution_count": null,
   "metadata": {},
   "outputs": [],
   "source": [
    "# Imports\n",
    "import numpy as np\n",
    "import pandas as pd\n",
    "import mne\n",
    "import matplotlib.pyplot as plt\n",
    "# from mpl_toolkits.axes_grid1 import make_axes_locatable\n",
    "\n",
    "import preprocessing_functions as ppf\n",
    "\n",
    "import matplotlib\n",
    "matplotlib.use('Qt5Agg') # This is to get interactive plots (very useful if using mne in a notebook)"
   ]
  },
  {
   "cell_type": "markdown",
   "metadata": {},
   "source": [
    "### Load files"
   ]
  },
  {
   "cell_type": "code",
   "execution_count": null,
   "metadata": {},
   "outputs": [],
   "source": [
    "# Load data (EXAMPLE OF SUBJ 1)\n",
    "# data_path_sub1 = '../../Data/Raw + epochs + events/Subject_001/Data/260516/'\n",
    "data_path_sub1 = '/Users/raimonbullich/Documents/Research_SPECS/Projects/The Unseen/Data/Raw + epochs + events/Subject_001/Data/260516/'\n",
    "\n",
    "raw = mne.io.read_raw_fif(data_path_sub1 + '260516-raw.fif', preload=True) # raw iEEG file\n",
    "eve = mne.read_events(data_path_sub1 + '260516-eve.fif') # raw events file\n",
    "raw.add_events(eve) # Add events to raw\n",
    "\n",
    "# Load electrodes df\n",
    "# electrodes_path = '../../Data/Probes/S1_MMM.tsv'\n",
    "electrodes_path = '/Users/raimonbullich/Documents/Research_SPECS/Projects/The Unseen/Data/Probes/S1_MMM.tsv'\n",
    "electrodes_df = pd.read_csv(electrodes_path, sep='\\t')\n",
    "\n",
    "# Load behaviour data\n",
    "events_sub1 = pd.read_pickle(data_path_sub1 + '260516_03-behavior.pickle') # behaviour\n"
   ]
  },
  {
   "cell_type": "code",
   "execution_count": null,
   "metadata": {},
   "outputs": [],
   "source": [
    "# Plot and visualize raw data.\n",
    "raw.plot()\n",
    "# raw.plot(highpass=55, lowpass=65.0) # It can be useful to plot specific freq bands in case the raw data looks very noisy.\n",
    "raw.info"
   ]
  },
  {
   "cell_type": "markdown",
   "metadata": {},
   "source": [
    "### Remove white matter channels (and bads)"
   ]
  },
  {
   "cell_type": "code",
   "execution_count": null,
   "metadata": {},
   "outputs": [],
   "source": [
    "# SELECT GRAY MATTER CONTACTS\n",
    "gm_contact_name = electrodes_df.loc[~electrodes_df['aseg_reslice'].isin(['White L', 'White R']), 'Channel'] # get contacts from gray matter\n",
    "raw_gm = raw.copy().pick_channels(gm_contact_name.values)"
   ]
  },
  {
   "cell_type": "code",
   "execution_count": null,
   "metadata": {},
   "outputs": [],
   "source": [
    "# Visualize raw data for only gray matter channels\n",
    "raw_gm.plot()\n",
    "\n",
    "# NOTE: Using the interactive plot, one can select channels that look noisy, flat, ... and these will be removed from your raw object.\n"
   ]
  },
  {
   "cell_type": "code",
   "execution_count": null,
   "metadata": {},
   "outputs": [],
   "source": [
    "raw_gm.info # if you have selected bad channels they will appear here"
   ]
  },
  {
   "cell_type": "code",
   "execution_count": null,
   "metadata": {},
   "outputs": [],
   "source": [
    "# you can create a new object using only the good channels\n",
    "bad_ch = raw_gm.info['bads']\n",
    "raw_gm_good = raw_gm.copy().drop_channels(bad_ch)\n",
    "raw_gm_good.info\n"
   ]
  },
  {
   "cell_type": "markdown",
   "metadata": {},
   "source": [
    "### Visualize probes"
   ]
  },
  {
   "cell_type": "code",
   "execution_count": null,
   "metadata": {},
   "outputs": [],
   "source": [
    "# plot in a 3d template the locations of the channels\n",
    "all_gm_channels_list = raw_gm.info['ch_names']\n",
    "\n",
    "dict_brain_regions = ppf.group_channels_brain_regions(electrodes_df, all_gm_channels_list)\n",
    "list_of_list_brain_regions = [value for value in dict_brain_regions.values()]\n",
    "\n",
    "ppf.plot_channel_locations(electrodes_df, all_gm_channels_list, 'All GM channels')\n",
    "ppf.plot_channel_locations(electrodes_df, list_of_list_brain_regions, 'Brain regions GM channels')"
   ]
  },
  {
   "cell_type": "markdown",
   "metadata": {},
   "source": [
    "### Remove noisy channels based on PSD"
   ]
  },
  {
   "cell_type": "code",
   "execution_count": null,
   "metadata": {},
   "outputs": [],
   "source": [
    "# Visualize power spectrum density for all GM channels\n",
    "raw_gm.plot_psd()\n",
    "plt.title('PSD from \"clean\" channels')\n",
    "\n",
    "# raw_gm.plot_psd()\n",
    "# plt.title('PSD from all channels')\n",
    "# plt.show()\n",
    "\n",
    "# NOTE: selecting one channel in this plot will also be marked as bad."
   ]
  },
  {
   "cell_type": "markdown",
   "metadata": {},
   "source": [
    "### Filter data"
   ]
  },
  {
   "cell_type": "code",
   "execution_count": null,
   "metadata": {},
   "outputs": [],
   "source": [
    "# Low freq = 0.1, high freq 150\n",
    "raw_gm.filter(l_freq=0.1, h_freq=150)\n",
    "# raw_gm_good.filter(l_freq=0.1, h_freq=150)\n",
    "\n",
    "# NOTE: depending on what you want to do, downsampling the data can be a good idea (after all the preprocessing)"
   ]
  },
  {
   "cell_type": "markdown",
   "metadata": {},
   "source": [
    "### Average reference the data"
   ]
  },
  {
   "cell_type": "code",
   "execution_count": null,
   "metadata": {},
   "outputs": [],
   "source": [
    "mne.set_log_level('WARNING') # to not have many 'debug' or warning 'messages'"
   ]
  },
  {
   "cell_type": "code",
   "execution_count": null,
   "metadata": {},
   "outputs": [],
   "source": [
    "\n",
    "# list_all_contacts_stim = raw_gm_good.info['ch_names']\n",
    "# list_all_contacts_stim = raw_gm.info['ch_names']\n",
    "list_all_contacts_stim = raw_gm_good.info['ch_names']\n",
    "channels_list = ppf.create_probe_channels_list_of_lists(list_all_contacts_stim) # this is a list of lists\n",
    "\n",
    "print(channels_list)\n"
   ]
  },
  {
   "cell_type": "code",
   "execution_count": null,
   "metadata": {},
   "outputs": [],
   "source": [
    "# Average reference the data. This is done probe-wise.\n",
    "# averaged_raw = ppf.average_reference_data(raw_gm, channels_list)\n",
    "averaged_raw = ppf.average_reference_data(raw_gm_good, channels_list)\n"
   ]
  },
  {
   "cell_type": "code",
   "execution_count": null,
   "metadata": {},
   "outputs": [],
   "source": [
    "# Visualize data after average reference\n",
    "averaged_raw.plot()\n"
   ]
  },
  {
   "cell_type": "markdown",
   "metadata": {},
   "source": [
    "### Notch filter "
   ]
  },
  {
   "cell_type": "code",
   "execution_count": null,
   "metadata": {},
   "outputs": [],
   "source": [
    "# Visualize psd after referencing\n",
    "averaged_raw.plot_psd()"
   ]
  },
  {
   "cell_type": "code",
   "execution_count": null,
   "metadata": {},
   "outputs": [],
   "source": [
    "# notch filter the data at 50Hz and its harmonics\n",
    "averaged_raw_notch = averaged_raw.copy().notch_filter(freqs=[50, 100, 150])"
   ]
  },
  {
   "cell_type": "code",
   "execution_count": null,
   "metadata": {},
   "outputs": [],
   "source": [
    "# Visualize result of notch filtering the data\n",
    "averaged_raw_notch.plot_psd()\n"
   ]
  },
  {
   "cell_type": "markdown",
   "metadata": {},
   "source": [
    "### Create epoch object (stimulus and response centered)"
   ]
  },
  {
   "cell_type": "code",
   "execution_count": null,
   "metadata": {},
   "outputs": [],
   "source": [
    "# Plot raw data with annotations \n",
    "annotations = mne.annotations_from_events(eve, sfreq=averaged_raw_notch.info['sfreq'], first_samp=averaged_raw_notch.first_samp)\n",
    "averaged_raw_notch.set_annotations(annotations)\n",
    "averaged_raw_notch.plot()\n",
    "averaged_raw_notch.info # I marked S2, M'15, and Q'12 as bads\n",
    "\n",
    "# 2 is trial start\n",
    "# 0 is flickering cross appears\n",
    "# 1 is stimulus onset"
   ]
  },
  {
   "cell_type": "code",
   "execution_count": null,
   "metadata": {},
   "outputs": [],
   "source": [
    "# Remove channels that still look very noisy\n",
    "bad_ch = averaged_raw_notch.info['bads']\n",
    "averaged_raw_notch_good = averaged_raw_notch.copy().drop_channels(bad_ch)"
   ]
  },
  {
   "cell_type": "code",
   "execution_count": null,
   "metadata": {},
   "outputs": [],
   "source": [
    "# Create epoch object\n",
    "raw_epochs_stimulus = mne.Epochs(averaged_raw_notch_good, eve, event_id=1, tmin=-1.5, tmax=2, baseline=None, reject=None, preload=True) # event id = 1 is when target is shown\n",
    "# raw_epochs_stimulus = mne.Epochs(averaged_raw_notch, eve, event_id=1, tmin=-1.5, tmax=2, baseline=None, reject=None, preload=True) # event id = 1 is when target is shown\n",
    "# Comment on baseline correction: once epochs are made, if needed, perform baseline correction by subtracting the mean amplitude of a pre-stimulus or pre-task interval from each epoch to reduce baseline drift effects.\n",
    "\n",
    "# check that number of epochs and number of (behavior) trials match\n",
    "print('len(events) == len(epochs) is:', len(events_sub1), len(raw_epochs_stimulus))"
   ]
  },
  {
   "cell_type": "code",
   "execution_count": null,
   "metadata": {},
   "outputs": [],
   "source": [
    "raw_epochs_stimulus.plot(events=True)\n",
    "raw_epochs_stimulus.info\n"
   ]
  },
  {
   "cell_type": "code",
   "execution_count": null,
   "metadata": {},
   "outputs": [],
   "source": [
    "# Run this in case any epoch has been removed through epochs plot\n",
    "\n",
    "# Find index of epochs that have been removed\n",
    "# The issue is that the original indices of the epochs are not matching the events dataframe (cause many epochs have been removed due to missing target on cue).\n",
    "# For this, I look at the original indices removed, and find the index where they belong in the selected epochs in this index array.\n",
    "\n",
    "idx_removed = [ix for ix, log in enumerate(raw_epochs_stimulus.drop_log) if log == ('USER',)] # this provides me the idx of removed epochs\n",
    "idx_saved = raw_epochs_stimulus.selection # here I have the idx of epochs I have saved\n",
    "# print idx_saved to see the issue with original-current index and the mismatch between these and teh event df\n",
    "\n",
    "all_idx = np.concatenate((idx_removed, idx_saved)) # concatenate both idx arrays\n",
    "all_idx_sorted = np.sort(all_idx) # sort concatenated array\n",
    "removed_epoch_idx = np.searchsorted(all_idx_sorted, idx_removed) # find indices of the values of idx_removed in the combined array all_idx_sorted\n",
    "\n",
    "print(removed_epoch_idx)"
   ]
  },
  {
   "cell_type": "markdown",
   "metadata": {},
   "source": [
    "### Remove epochs/channels based variance and on median absolute deviation"
   ]
  },
  {
   "cell_type": "code",
   "execution_count": null,
   "metadata": {},
   "outputs": [],
   "source": [
    "raw_epochs_stimulus.plot()\n",
    "# if you select one epoch after closing it gets removed (i removed the first one)"
   ]
  },
  {
   "cell_type": "code",
   "execution_count": null,
   "metadata": {},
   "outputs": [],
   "source": [
    "####### CLEAN NOISY EPOCHS stimulus centered\n",
    "ch_idx_stim, epoch_idx_stim = ppf.plot_variances_epochs_channels(raw_epochs_stimulus, 5) "
   ]
  },
  {
   "cell_type": "code",
   "execution_count": null,
   "metadata": {},
   "outputs": [],
   "source": [
    "# By selecting channels in this plot you can remove them. After, re run the previous cell.\n",
    "# raw_epochs_stimulus.info.ch_names[72] # C'1 looks noisy, also S probe looks generally noisy\n",
    "raw_epochs_stimulus.plot()"
   ]
  },
  {
   "cell_type": "code",
   "execution_count": null,
   "metadata": {},
   "outputs": [],
   "source": [
    "# Plot epochs for a specific channel (choose how many, starting from where)\n",
    "# ppf.plot_epochs_of_one_channel(raw_epochs_stimulus, ch_idx_stim, num_epochs=30, test_ch_idx=2)"
   ]
  },
  {
   "cell_type": "code",
   "execution_count": null,
   "metadata": {},
   "outputs": [],
   "source": [
    "# Plot channels for one epoch\n",
    "ppf.plot_channels_of_one_epoch(raw_epochs_stimulus, epoch_idx_stim[2], num_channels=20, test_epoch_idx=8)\n"
   ]
  },
  {
   "cell_type": "code",
   "execution_count": null,
   "metadata": {},
   "outputs": [],
   "source": [
    "# Remove epochs or channels according to previous plots (and epoch drops from epoch.plot()). DOUBLE CHECK MATCH EPOCH IDX WITH TRIAL IDX FROM DF\n",
    "\n",
    "len(events_sub1) == len(raw_epochs_stimulus)\n",
    "\n",
    "events_clean = events_sub1.drop(removed_epoch_idx) # remove entries from removed epochs\n",
    "len(events_clean) == len(raw_epochs_stimulus) # if this is true, seems like epochs and events match"
   ]
  },
  {
   "cell_type": "code",
   "execution_count": null,
   "metadata": {},
   "outputs": [],
   "source": [
    "# SAVE THE EPOCHS AND NEW DATAFRAME\n",
    "path_name_s1 = 'your/path'\n",
    "events_clean.to_pickle(path_name_s1 + 'behaviour_s001.pickle')\n",
    "raw_epochs_stimulus.save(path_name_s1 + 'raw_epochs_stim_s001.fif')"
   ]
  },
  {
   "cell_type": "code",
   "execution_count": null,
   "metadata": {},
   "outputs": [],
   "source": [
    "# PLOT PSDs epochs\n",
    "raw_epochs_stimulus.plot_psd()\n"
   ]
  }
 ],
 "metadata": {
  "kernelspec": {
   "display_name": "base",
   "language": "python",
   "name": "python3"
  },
  "language_info": {
   "codemirror_mode": {
    "name": "ipython",
    "version": 3
   },
   "file_extension": ".py",
   "mimetype": "text/x-python",
   "name": "python",
   "nbconvert_exporter": "python",
   "pygments_lexer": "ipython3",
   "version": "3.10.9"
  }
 },
 "nbformat": 4,
 "nbformat_minor": 2
}
